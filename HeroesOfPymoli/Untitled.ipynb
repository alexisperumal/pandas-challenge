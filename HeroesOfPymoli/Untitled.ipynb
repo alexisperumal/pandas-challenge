{
 "cells": [
  {
   "cell_type": "code",
   "execution_count": 2,
   "metadata": {},
   "outputs": [],
   "source": [
    "# Doing Portilla Finance with Python Udemy Course\n",
    "# Alexis Perumal, 11/29/19\n",
    "import numpy as np\n",
    "import matplotlib as mp"
   ]
  },
  {
   "cell_type": "code",
   "execution_count": 5,
   "metadata": {},
   "outputs": [
    {
     "data": {
      "text/plain": [
       "array([0.62927352, 0.62291547, 0.0521224 , 0.53604762, 0.61161595,\n",
       "       0.51520629, 0.07776886, 0.83256724, 0.23543183, 0.15593206])"
      ]
     },
     "execution_count": 5,
     "metadata": {},
     "output_type": "execute_result"
    }
   ],
   "source": [
    "arr = np.random.rand(10)\n",
    "arr"
   ]
  },
  {
   "cell_type": "code",
   "execution_count": 43,
   "metadata": {},
   "outputs": [
    {
     "data": {
      "text/plain": [
       "array([ 0.08999845, -1.54968149,  0.17976592,  1.63412388,  0.33130031,\n",
       "       -0.55520677, -0.17654727, -0.79520112, -0.93361959,  0.95577624,\n",
       "       -1.51902179, -0.22294198, -1.58563118,  0.61941951, -0.22336993,\n",
       "       -0.61965988, -0.19955519,  1.8579719 , -0.74030846,  0.5975812 ,\n",
       "       -0.72636593, -2.05482832, -0.25200863, -0.97106353, -1.35130427,\n",
       "       -2.13091471, -0.27718737,  0.88304343, -0.33399321, -1.21752843,\n",
       "       -0.90099955, -0.59368117, -0.79188306,  0.12074031,  0.24306607,\n",
       "        2.20632008, -2.09612626,  1.45196741,  1.58641396, -1.03247497,\n",
       "        0.71925083, -0.9453855 ,  0.95455291,  1.36931747,  0.52152825,\n",
       "        0.11302351,  1.7550846 , -0.80165958, -1.17847796, -1.21038178,\n",
       "        1.09494211, -0.16753088, -0.17957683, -0.13462984,  0.7293663 ,\n",
       "        1.0045458 , -0.65791318,  0.25995812, -0.36440383,  0.67559365,\n",
       "        0.41432204, -0.11456334,  0.2649726 , -0.73447893, -1.39603393,\n",
       "       -0.15287848, -1.63241068, -0.07380506, -0.5519585 ,  2.23434147,\n",
       "       -0.61449794,  0.1661217 ,  0.01486133,  1.96830595,  0.10191208,\n",
       "        1.25690105, -0.71269104,  0.72033743, -0.60814191, -1.23367697,\n",
       "        1.12712184, -1.61007316, -0.14861269, -0.35678319, -0.2409533 ,\n",
       "        0.4846405 , -0.38755722,  1.32228885,  0.57420145, -0.60603103,\n",
       "       -0.58096903, -2.11732572,  2.27966685, -1.00372184,  1.34466419,\n",
       "       -0.40323472, -0.30426901,  2.07746159, -1.09513653, -0.09017129])"
      ]
     },
     "execution_count": 43,
     "metadata": {},
     "output_type": "execute_result"
    }
   ],
   "source": [
    "arr2 = np.random.normal(0,1,100)\n",
    "arr2"
   ]
  },
  {
   "cell_type": "code",
   "execution_count": 44,
   "metadata": {},
   "outputs": [
    {
     "data": {
      "text/plain": [
       "-0.07954265845667056"
      ]
     },
     "execution_count": 44,
     "metadata": {},
     "output_type": "execute_result"
    }
   ],
   "source": [
    "arr2.mean()"
   ]
  },
  {
   "cell_type": "code",
   "execution_count": 45,
   "metadata": {},
   "outputs": [
    {
     "data": {
      "text/plain": [
       "2.2796668511652944"
      ]
     },
     "execution_count": 45,
     "metadata": {},
     "output_type": "execute_result"
    }
   ],
   "source": [
    "arr2.max()"
   ]
  },
  {
   "cell_type": "code",
   "execution_count": 46,
   "metadata": {},
   "outputs": [
    {
     "data": {
      "text/plain": [
       "-2.130914711453078"
      ]
     },
     "execution_count": 46,
     "metadata": {},
     "output_type": "execute_result"
    }
   ],
   "source": [
    "arr2.min()"
   ]
  },
  {
   "cell_type": "code",
   "execution_count": 47,
   "metadata": {},
   "outputs": [
    {
     "ename": "ValueError",
     "evalue": "n <= 0",
     "output_type": "error",
     "traceback": [
      "\u001b[0;31m---------------------------------------------------------------------------\u001b[0m",
      "\u001b[0;31mValueError\u001b[0m                                Traceback (most recent call last)",
      "\u001b[0;32m<ipython-input-47-00843fdc69eb>\u001b[0m in \u001b[0;36m<module>\u001b[0;34m()\u001b[0m\n\u001b[0;32m----> 1\u001b[0;31m \u001b[0marr\u001b[0m \u001b[0;34m=\u001b[0m \u001b[0mnp\u001b[0m\u001b[0;34m.\u001b[0m\u001b[0mrandom\u001b[0m\u001b[0;34m.\u001b[0m\u001b[0mnegative_binomial\u001b[0m\u001b[0;34m(\u001b[0m\u001b[0;34m[\u001b[0m\u001b[0;36m0\u001b[0m\u001b[0;34m,\u001b[0m\u001b[0;36m1\u001b[0m\u001b[0;34m]\u001b[0m\u001b[0;34m,\u001b[0m\u001b[0;36m5\u001b[0m\u001b[0;34m)\u001b[0m\u001b[0;34m\u001b[0m\u001b[0m\n\u001b[0m\u001b[1;32m      2\u001b[0m \u001b[0marr\u001b[0m\u001b[0;34m\u001b[0m\u001b[0m\n",
      "\u001b[0;32mmtrand.pyx\u001b[0m in \u001b[0;36mmtrand.RandomState.negative_binomial\u001b[0;34m()\u001b[0m\n",
      "\u001b[0;31mValueError\u001b[0m: n <= 0"
     ]
    }
   ],
   "source": [
    "arr = np.random.negative_binomial([0,1],5)\n",
    "arr"
   ]
  }
 ],
 "metadata": {
  "kernelspec": {
   "display_name": "Python 3",
   "language": "python",
   "name": "python3"
  },
  "language_info": {
   "codemirror_mode": {
    "name": "ipython",
    "version": 3
   },
   "file_extension": ".py",
   "mimetype": "text/x-python",
   "name": "python",
   "nbconvert_exporter": "python",
   "pygments_lexer": "ipython3",
   "version": "3.6.5"
  }
 },
 "nbformat": 4,
 "nbformat_minor": 2
}
